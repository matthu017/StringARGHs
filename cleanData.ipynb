{
 "cells": [
  {
   "cell_type": "code",
   "execution_count": 1,
   "id": "f07aad7f",
   "metadata": {},
   "outputs": [],
   "source": [
    "# Imports and getting data\n",
    "import os\n",
    "import pandas as pd\n",
    "import numpy as np\n",
    "import matplotlib.pyplot as plt\n",
    "import seaborn as sns\n",
    "\n",
    "df = pd.read_csv(os.path.expanduser(\"/Users/Home/HackOHIO/Prescriber_Data.csv\"))"
   ]
  },
  {
   "cell_type": "code",
   "execution_count": 2,
   "id": "75f1eca7",
   "metadata": {},
   "outputs": [],
   "source": [
    "# Get labels, and associated data\n",
    "df.columns = ['id', 'first_name', 'last_name', 'State', 'Product', \n",
    "              'nrx1', 'nrx2', 'nrx3', 'nrx4', 'nrx5', 'nrx6',\n",
    "              'trx1', 'trx2', 'trx3','trx4', 'trx5', 'trx6']\n",
    "nrx_labels = df.columns[5:11]\n",
    "trx_labels = df.columns[11: 17]\n",
    "nrx = df.iloc[:, 5:11]\n",
    "trx = df.iloc[:, 11:17]"
   ]
  },
  {
   "cell_type": "code",
   "execution_count": 3,
   "id": "b449b0eb",
   "metadata": {},
   "outputs": [],
   "source": [
    "# Clean the data by removing false values\n",
    "df_remove = df.loc[(df['nrx1'] <= df['trx1']) & \n",
    "                   (df['nrx2'] <= df['trx2']) &\n",
    "                   (df['nrx3'] <= df['trx3']) &\n",
    "                   (df['nrx4'] <= df['trx4']) &\n",
    "                   (df['nrx5'] <= df['trx5']) &\n",
    "                   (df['nrx6'] <= df['trx6'])]"
   ]
  },
  {
   "cell_type": "code",
   "execution_count": 4,
   "id": "de36fe05",
   "metadata": {},
   "outputs": [],
   "source": [
    "# Make a copy of the dataframe\n",
    "df_add = df.copy(deep = True)\n",
    "\n",
    "# Clean the data, make sure that if nrx > trx, then add nrx to trx value\n",
    "for i in range(len(df)):\n",
    "    nrx_row = nrx.iloc[i, :]\n",
    "    trx_row = trx.iloc[i, :]\n",
    "    for j in range(len(nrx_row)):\n",
    "        nrx_month = nrx_row.iloc[j]\n",
    "        trx_month = trx_row.iloc[j]\n",
    "        if (nrx_month > trx_month):\n",
    "            # Add nrx to trx\n",
    "            new_trx_month = nrx_month + trx_month\n",
    "            df_add.iat[i, j + 11] = new_trx_month"
   ]
  },
  {
   "cell_type": "code",
   "execution_count": 5,
   "id": "3a6c88bd",
   "metadata": {},
   "outputs": [],
   "source": [
    "# Make a copy of the dataframe\n",
    "df_avg = df.copy(deep = True)\n",
    "\n",
    "# Clean the data, make sure that if nrx > trx, then add nrx to trx value\n",
    "for i in range(3):\n",
    "    nrx_row = nrx.iloc[i, :]\n",
    "    trx_row = trx.iloc[i, :]\n",
    "    for j in range(len(nrx_row)):\n",
    "        nrx_month = nrx_row.iloc[j]\n",
    "        trx_month = trx_row.iloc[j]\n",
    "        if (nrx_month > trx_month):\n",
    "            # Add nrx to trx\n",
    "            new_trx_month = np.mean(trx_row)\n",
    "            df_avg.iat[i, j + 11] = new_trx_month"
   ]
  },
  {
   "cell_type": "code",
   "execution_count": 6,
   "id": "26edd512",
   "metadata": {},
   "outputs": [
    {
     "name": "stderr",
     "output_type": "stream",
     "text": [
      "<ipython-input-6-347eb2899687>:24: SettingWithCopyWarning: \n",
      "A value is trying to be set on a copy of a slice from a DataFrame.\n",
      "Try using .loc[row_indexer,col_indexer] = value instead\n",
      "\n",
      "See the caveats in the documentation: https://pandas.pydata.org/pandas-docs/stable/user_guide/indexing.html#returning-a-view-versus-a-copy\n",
      "  dataframe['nrx_slope'] = nrx_slope\n",
      "<ipython-input-6-347eb2899687>:25: SettingWithCopyWarning: \n",
      "A value is trying to be set on a copy of a slice from a DataFrame.\n",
      "Try using .loc[row_indexer,col_indexer] = value instead\n",
      "\n",
      "See the caveats in the documentation: https://pandas.pydata.org/pandas-docs/stable/user_guide/indexing.html#returning-a-view-versus-a-copy\n",
      "  dataframe['nrx_intercept'] = nrx_intercept\n",
      "<ipython-input-6-347eb2899687>:26: SettingWithCopyWarning: \n",
      "A value is trying to be set on a copy of a slice from a DataFrame.\n",
      "Try using .loc[row_indexer,col_indexer] = value instead\n",
      "\n",
      "See the caveats in the documentation: https://pandas.pydata.org/pandas-docs/stable/user_guide/indexing.html#returning-a-view-versus-a-copy\n",
      "  dataframe['trx_slope'] = trx_slope\n",
      "<ipython-input-6-347eb2899687>:27: SettingWithCopyWarning: \n",
      "A value is trying to be set on a copy of a slice from a DataFrame.\n",
      "Try using .loc[row_indexer,col_indexer] = value instead\n",
      "\n",
      "See the caveats in the documentation: https://pandas.pydata.org/pandas-docs/stable/user_guide/indexing.html#returning-a-view-versus-a-copy\n",
      "  dataframe['trx_intercept'] = trx_intercept\n"
     ]
    }
   ],
   "source": [
    "# Get slope and intercept for trx\n",
    "x = [1,2,3,4,5,6]\n",
    "\n",
    "dfs = [df_remove, df_add, df_avg]\n",
    "for dataframe in dfs:\n",
    "    nrx_slope = []\n",
    "    nrx_intercept = []\n",
    "    nrx_means = []\n",
    "    trx_slope = []\n",
    "    trx_intercept = []\n",
    "    trx_means = []\n",
    "    nrx = dataframe.iloc[:, 5:11]\n",
    "    trx = dataframe.iloc[:, 11:17]\n",
    "    for i in range(len(dataframe)):\n",
    "        nrx_y = np.array(nrx.iloc[i])\n",
    "        nrx_m, nrx_b = np.polyfit(x, nrx_y, 1)\n",
    "        nrx_mean = np.mean(nrx.iloc[i])\n",
    "    \n",
    "        trx_y = np.array(trx.iloc[i])\n",
    "        trx_m, trx_b = np.polyfit(x, trx_y, 1)\n",
    "        trx_mean = np.mean(trx.iloc[i])\n",
    "    \n",
    "        nrx_slope.append(nrx_m)\n",
    "        nrx_intercept.append(nrx_b)\n",
    "        nrx_means.append(nrx_mean)\n",
    "    \n",
    "        trx_slope.append(trx_m)\n",
    "        trx_intercept.append(trx_b)\n",
    "        trx_means.append(trx_mean)\n",
    "    dataframe['nrx_slope'] = nrx_slope\n",
    "    dataframe['nrx_intercept'] = nrx_intercept\n",
    "    dataframe['trx_slope'] = trx_slope\n",
    "    dataframe['trx_intercept'] = trx_intercept"
   ]
  },
  {
   "cell_type": "code",
   "execution_count": 14,
   "id": "0dac9f64",
   "metadata": {},
   "outputs": [],
   "source": [
    "df_remove.to_csv('df_rm.csv')\n",
    "df_add.to_csv('df_add.csv')\n",
    "df_avg.to_csv('df_avg.csv')"
   ]
  },
  {
   "cell_type": "code",
   "execution_count": null,
   "id": "7e35d53e",
   "metadata": {},
   "outputs": [],
   "source": []
  }
 ],
 "metadata": {
  "kernelspec": {
   "display_name": "Python 3",
   "language": "python",
   "name": "python3"
  },
  "language_info": {
   "codemirror_mode": {
    "name": "ipython",
    "version": 3
   },
   "file_extension": ".py",
   "mimetype": "text/x-python",
   "name": "python",
   "nbconvert_exporter": "python",
   "pygments_lexer": "ipython3",
   "version": "3.8.8"
  }
 },
 "nbformat": 4,
 "nbformat_minor": 5
}
